{
 "cells": [
  {
   "cell_type": "code",
   "execution_count": 9,
   "metadata": {},
   "outputs": [],
   "source": [
    "from gensim.models import KeyedVectors\n",
    "import pandas as pd\n",
    "import numpy as np \n",
    "from gensim.similarities import WmdSimilarity"
   ]
  },
  {
   "cell_type": "code",
   "execution_count": 2,
   "metadata": {},
   "outputs": [],
   "source": [
    "## loading the pre trained model \n",
    "\n",
    "model = KeyedVectors.load_word2vec_format('nepali_embeddings_word2vec.txt',binary=False)"
   ]
  },
  {
   "cell_type": "code",
   "execution_count": 3,
   "metadata": {},
   "outputs": [
    {
     "data": {
      "text/html": [
       "<div>\n",
       "<style scoped>\n",
       "    .dataframe tbody tr th:only-of-type {\n",
       "        vertical-align: middle;\n",
       "    }\n",
       "\n",
       "    .dataframe tbody tr th {\n",
       "        vertical-align: top;\n",
       "    }\n",
       "\n",
       "    .dataframe thead th {\n",
       "        text-align: right;\n",
       "    }\n",
       "</style>\n",
       "<table border=\"1\" class=\"dataframe\">\n",
       "  <thead>\n",
       "    <tr style=\"text-align: right;\">\n",
       "      <th></th>\n",
       "      <th>Sentence</th>\n",
       "      <th>Final Intent</th>\n",
       "    </tr>\n",
       "  </thead>\n",
       "  <tbody>\n",
       "    <tr>\n",
       "      <th>0</th>\n",
       "      <td>तिम्रो नाम के हो</td>\n",
       "      <td>परि</td>\n",
       "    </tr>\n",
       "    <tr>\n",
       "      <th>1</th>\n",
       "      <td>तिमिलाई के भनेर चिन्छन अरुले</td>\n",
       "      <td>परि</td>\n",
       "    </tr>\n",
       "    <tr>\n",
       "      <th>2</th>\n",
       "      <td>तिमिलाई बोलाउनि नाम के हो</td>\n",
       "      <td>परि</td>\n",
       "    </tr>\n",
       "    <tr>\n",
       "      <th>3</th>\n",
       "      <td>म तिमिलाई के भनेर बोलाउ</td>\n",
       "      <td>परि</td>\n",
       "    </tr>\n",
       "    <tr>\n",
       "      <th>4</th>\n",
       "      <td>तिमिलाई के भनेर चिन्छन</td>\n",
       "      <td>परि</td>\n",
       "    </tr>\n",
       "  </tbody>\n",
       "</table>\n",
       "</div>"
      ],
      "text/plain": [
       "                       Sentence Final Intent\n",
       "0              तिम्रो नाम के हो          परि\n",
       "1  तिमिलाई के भनेर चिन्छन अरुले          परि\n",
       "2     तिमिलाई बोलाउनि नाम के हो          परि\n",
       "3       म तिमिलाई के भनेर बोलाउ          परि\n",
       "4        तिमिलाई के भनेर चिन्छन          परि"
      ]
     },
     "execution_count": 3,
     "metadata": {},
     "output_type": "execute_result"
    }
   ],
   "source": [
    "## loading the question,intent dataset \n",
    "\n",
    "doc = pd.read_csv('dataset_modified.txt')\n",
    "\n",
    "doc.head()"
   ]
  },
  {
   "cell_type": "code",
   "execution_count": 5,
   "metadata": {
    "scrolled": true
   },
   "outputs": [
    {
     "data": {
      "text/html": [
       "<div>\n",
       "<style scoped>\n",
       "    .dataframe tbody tr th:only-of-type {\n",
       "        vertical-align: middle;\n",
       "    }\n",
       "\n",
       "    .dataframe tbody tr th {\n",
       "        vertical-align: top;\n",
       "    }\n",
       "\n",
       "    .dataframe thead th {\n",
       "        text-align: right;\n",
       "    }\n",
       "</style>\n",
       "<table border=\"1\" class=\"dataframe\">\n",
       "  <thead>\n",
       "    <tr style=\"text-align: right;\">\n",
       "      <th></th>\n",
       "      <th>Intent</th>\n",
       "      <th>Count</th>\n",
       "      <th>Response</th>\n",
       "    </tr>\n",
       "  </thead>\n",
       "  <tbody>\n",
       "    <tr>\n",
       "      <th>0</th>\n",
       "      <td>हुक्का</td>\n",
       "      <td>18</td>\n",
       "      <td>यहाँ हुक्का पाइन्छ। पान मिन्ट डबल एप्पल र स्ट्...</td>\n",
       "    </tr>\n",
       "    <tr>\n",
       "      <th>1</th>\n",
       "      <td>चाउमिन</td>\n",
       "      <td>17</td>\n",
       "      <td>यहाँ चाउमिन पाइन्छ र हामी सँग चिकेन चाउमिन बफ ...</td>\n",
       "    </tr>\n",
       "    <tr>\n",
       "      <th>2</th>\n",
       "      <td>पिजा</td>\n",
       "      <td>17</td>\n",
       "      <td>यहाँ पिजा पाइन्छ र हामी सँग चिज पिजा मसरूम पिज...</td>\n",
       "    </tr>\n",
       "    <tr>\n",
       "      <th>3</th>\n",
       "      <td>मोमो</td>\n",
       "      <td>17</td>\n",
       "      <td>यहाँ मोमो पाइन्छ र हामी सँग चिकेन मोमो बफ मोमो...</td>\n",
       "    </tr>\n",
       "    <tr>\n",
       "      <th>4</th>\n",
       "      <td>बफ चिल्ली</td>\n",
       "      <td>16</td>\n",
       "      <td>यहाँ बफ चिल्ली पाइन्छ। बफ चिल्ली लाई प्लेटको द...</td>\n",
       "    </tr>\n",
       "  </tbody>\n",
       "</table>\n",
       "</div>"
      ],
      "text/plain": [
       "      Intent  Count                                           Response\n",
       "0     हुक्का     18  यहाँ हुक्का पाइन्छ। पान मिन्ट डबल एप्पल र स्ट्...\n",
       "1     चाउमिन     17  यहाँ चाउमिन पाइन्छ र हामी सँग चिकेन चाउमिन बफ ...\n",
       "2       पिजा     17  यहाँ पिजा पाइन्छ र हामी सँग चिज पिजा मसरूम पिज...\n",
       "3       मोमो     17  यहाँ मोमो पाइन्छ र हामी सँग चिकेन मोमो बफ मोमो...\n",
       "4  बफ चिल्ली     16  यहाँ बफ चिल्ली पाइन्छ। बफ चिल्ली लाई प्लेटको द..."
      ]
     },
     "execution_count": 5,
     "metadata": {},
     "output_type": "execute_result"
    }
   ],
   "source": [
    "## loading the intent,response dataset\n",
    "\n",
    "response = pd.read_csv('follow_up_qsn_v1.csv')\n",
    "response.head()"
   ]
  },
  {
   "cell_type": "code",
   "execution_count": 77,
   "metadata": {},
   "outputs": [
    {
     "name": "stdout",
     "output_type": "stream",
     "text": [
      "यहाँ पिजा पाइन्छ र हामी सँग चिज पिजा मसरूम पिजा चिकेन पिजा र मिक्स पिजा छ | पिजा बन्न बिस मिनेट लाग्छ|\n"
     ]
    }
   ],
   "source": [
    "val =response[response['Intent']=='पिजा'].Response.values\n",
    "for x in val:\n",
    "    print(x)\n",
    "#response['Response'][val]"
   ]
  },
  {
   "cell_type": "code",
   "execution_count": 6,
   "metadata": {},
   "outputs": [
    {
     "data": {
      "text/plain": [
       "हुक्का             18\n",
       "चाउमिन             17\n",
       "मोमो               17\n",
       "पिजा               17\n",
       "परि                16\n",
       "चिकेन लेगपीस       16\n",
       "प्याज पकौडा        16\n",
       "चिकेन चिल्ली       16\n",
       "बफ सुकुटी          16\n",
       "चिकेन ललिपप        16\n",
       "आलु पकौडा          16\n",
       "बर्गर              16\n",
       "बफ ससेज            16\n",
       "चिकेन ससेज         16\n",
       "चिकेन सुकुटी       16\n",
       "बफ चिल्ली          16\n",
       "चिसो               15\n",
       "ससेज               12\n",
       "सुकुटी             12\n",
       "वाईफाई             11\n",
       "मिक्स पिजा         10\n",
       "अफर                10\n",
       "चिकेन चाउमिन       10\n",
       "चिकेन मोमो         10\n",
       "मसरूम पिजा         10\n",
       "बफ चाउमिन          10\n",
       "भेज मोमो           10\n",
       "पकौडा              10\n",
       "भेज चाउमिन         10\n",
       "चिकेन पिजा         10\n",
       "बफ मोमो            10\n",
       "चिज पिजा           10\n",
       "सी मोमो             9\n",
       "कोक                 9\n",
       "वाईन                8\n",
       "स्पेशल              8\n",
       "रुसलान              8\n",
       "खुकुरी              8\n",
       "टुबोर्ग गोल्ड       8\n",
       "टुबोर्ग स्ट्रोङ     8\n",
       "फेन्टा              8\n",
       "डिउ                 8\n",
       "बियर                8\n",
       "टुबोर्ग डिलक्स      8\n",
       "स्प्राइट            8\n",
       "अर्ना               8\n",
       "कम्पनि              7\n",
       "रेस्टुरेन्ट         7\n",
       "Name: Final Intent, dtype: int64"
      ]
     },
     "execution_count": 6,
     "metadata": {},
     "output_type": "execute_result"
    }
   ],
   "source": [
    "doc['Final Intent'].value_counts()"
   ]
  },
  {
   "cell_type": "code",
   "execution_count": 107,
   "metadata": {},
   "outputs": [],
   "source": [
    "## create corpus of the sentences from document \n",
    "\n",
    "corpus = [sent for sent in doc['Sentence']]"
   ]
  },
  {
   "cell_type": "code",
   "execution_count": 129,
   "metadata": {},
   "outputs": [],
   "source": [
    "## Creating a function to return the intent of the question\n",
    "\n",
    "def intent_of_question(model,doc,sentence,response):\n",
    "    instance = WmdSimilarity(corpus, model, num_best=5)\n",
    "    similar = instance[sentence]\n",
    "    list_of_intent=[]\n",
    "    for index,score in similar:\n",
    "        if score <0.75:\n",
    "            list_of_intent.append(('अन्य',score))\n",
    "        else:\n",
    "            intent = doc['Final Intent'][index]\n",
    "            list_of_intent.append((intent,score))\n",
    "    return list_of_intent"
   ]
  },
  {
   "cell_type": "code",
   "execution_count": 132,
   "metadata": {},
   "outputs": [
    {
     "name": "stdout",
     "output_type": "stream",
     "text": [
      "Question -->खुकुरी रम पाउला कि नाई \n",
      "Answer -->['यहाँ खुकुरी रम पाइन्छ। हामी सँग खुकुरी रम क्वाटर बोत्तल हाफ बोत्तल र फुल बोत्तल छ। क्वाटरको तिन सय पचास रुपैया पर्छ हाफको छ सय पचास रुपैया पर्छ र फुल खुकुरी रमको बाह्र सय रुपैया पर्छ।']\n",
      "Question -->कति समय लाग्छ प्याज पकौडा बन्न \n",
      "Answer -->['यहाँ प्याज पकौडा पाइन्छ। प्याज पकौडालाई प्लेटको एक सय बिस रुपैया हो र बन्न पन्ध्र मिनेट समय लाग्छ।']\n",
      "Question -->छुट छ \n",
      "Answer -->['अफर भनेर त केहि छैन तर थोरै डिस्काउन्ट हुन्छ |']\n",
      "Question -->आज मौसम कस्तो छ \n",
      "Answer -->['सरि तपाइको प्रश्न यो रेस्टुरेन्ट सम्बन्धि हुनु पर्छ।']\n",
      "Question -->परि आज स्पेशल के हो \n",
      "Answer -->['यो रेस्टुरेन्टमा स्पेशल पाउनि भनेको चिकेन सुकुटी चिकेन ललिपप र बफ चिल्ली हो | ']\n",
      "Question -->मसरूम पिजा छ \n",
      "Answer -->['यहाँ मसरुम पिजा पाइन्छ| स्माल साइजको तिन सय मिडियम साइजको चार सय र लार्ज साइजको पाँच सय|']\n",
      "Question -->आज डिसकाउन्ट छ \n",
      "Answer -->['अफर भनेर त केहि छैन तर थोरै डिस्काउन्ट हुन्छ |']\n",
      "Question -->वाईफाईको इस्पिड कस्तो छ \n",
      "Answer -->['वाईफाईको सुविधा छ र वाईफाईको स्पीड पनि राम्रो नै छ|']\n"
     ]
    }
   ],
   "source": [
    "## Creating a list of sentence for testing\n",
    "\n",
    "list_of_sentence=['खुकुरी रम पाउला कि नाई','कति समय लाग्छ प्याज पकौडा बन्न','छुट छ','आज मौसम कस्तो छ','परि आज स्पेशल के हो','मसरूम पिजा छ','आज डिसकाउन्ट छ','वाईफाईको इस्पिड कस्तो छ']\n",
    "\n",
    "## Calculating the response\n",
    "for x in list_of_sentence:\n",
    "    intnt=intent_of_question(model=model,doc=doc,sentence=x,response=response)\n",
    "    \n",
    "    maxm = 0\n",
    "    context=''\n",
    "    for intention,prob in intnt:\n",
    "        if prob>maxm:\n",
    "            maxm=prob\n",
    "            context=intention\n",
    "    result=response[response['Intent']==context].Response.values\n",
    "    print(f'Question -->{x} \\nAnswer -->{result}')"
   ]
  },
  {
   "cell_type": "code",
   "execution_count": null,
   "metadata": {},
   "outputs": [],
   "source": []
  }
 ],
 "metadata": {
  "kernelspec": {
   "display_name": "Python 3",
   "language": "python",
   "name": "python3"
  },
  "language_info": {
   "codemirror_mode": {
    "name": "ipython",
    "version": 3
   },
   "file_extension": ".py",
   "mimetype": "text/x-python",
   "name": "python",
   "nbconvert_exporter": "python",
   "pygments_lexer": "ipython3",
   "version": "3.7.3"
  }
 },
 "nbformat": 4,
 "nbformat_minor": 2
}
